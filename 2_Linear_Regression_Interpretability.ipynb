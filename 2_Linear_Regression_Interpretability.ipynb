{
  "nbformat": 4,
  "nbformat_minor": 0,
  "metadata": {
    "colab": {
      "name": "2. Linear Regression: Interpretability",
      "provenance": [],
      "collapsed_sections": [],
      "include_colab_link": true
    },
    "kernelspec": {
      "name": "python3",
      "display_name": "Python 3"
    }
  },
  "cells": [
    {
      "cell_type": "markdown",
      "metadata": {
        "id": "view-in-github",
        "colab_type": "text"
      },
      "source": [
        "<a href=\"https://colab.research.google.com/github/arncelik/TAMU-Datathon-Challenges/blob/master/2_Linear_Regression_Interpretability.ipynb\" target=\"_parent\"><img src=\"https://colab.research.google.com/assets/colab-badge.svg\" alt=\"Open In Colab\"/></a>"
      ]
    },
    {
      "cell_type": "markdown",
      "metadata": {
        "id": "vrBWZHHbTZEB",
        "colab_type": "text"
      },
      "source": [
        "# Lesson 2: Model Fitting (Linear Regression)\n",
        "\n",
        "In lesson 1, we got a some experience dealing with data. Now we can go ahead and do some machine learning with it! So as to not overwhelm ourselves, we'll start off with some simple models which will lay the groundwork for more complicated ones up ahead. Here, we will focus on the bottom half of the diagram below.\n",
        "\n",
        "![alt text](https://revsearch-assets.s3.amazonaws.com/images/ds_process2.png)\n",
        "\n",
        "## Learning Objectives:\n",
        "* What is a model? What makes a model linear?\n",
        "* Fit your own model by hand!\n",
        "* A visual introduction to optimization - \"What is a Loss Function?\"\n",
        "* How to train a linear model using the Scikit Learn library\n",
        "* How to interpret a linear regression model\n",
        "* Understand the interpretability <> accuracy tradeoff\n",
        "\n",
        "## Definitions\n",
        "* **Accuracy** - How close to the true value the computer can predict.\n",
        "* **Interpretability** - How well we can explain why the computer made the decision it did.\n",
        "* **Machine Learning (ML)** - Computer makes decisions *using the data*. i.e. the computer algorithm is clueless before looking at the data, then it becomes smart after looking at the data.\n",
        "* **Machine Learning <> Artificial Intelligence** - Learned rules (based on data) <> hard coded rules, set by the programmer.\n",
        "* **Multilinear regression** - Using more than one feature to predict our target. \n",
        "* **Linear combination** - An addition of our parameters. i.e. $y = 3x + 9z$.\n",
        "* **Multicollinearity** - When our features are highly correlated with eachother."
      ]
    },
    {
      "cell_type": "markdown",
      "metadata": {
        "id": "hUfz5qdNtFWp",
        "colab_type": "text"
      },
      "source": [
        "Before we start, we need to import all the libraries we need. It's best practice to do this in the beginning. We'll be importing:\n",
        "\n",
        "* [Pandas](https://pandas.pydata.org/pandas-docs/stable/): Library that will be used to load and manipulate the data\n",
        "* [Numpy](https://docs.scipy.org/doc/numpy/reference/): Used to make optimized operations on matrices\n",
        "* [Matplotlib](https://matplotlib.org): Used to visualize our data\n",
        "* [Seaborn](https://seaborn.pydata.org/) is a python package for plotting like matplotlib. It is actually a library built on top of matplotlib. Sometimes it makes prettier plots :)\n"
      ]
    },
    {
      "cell_type": "code",
      "metadata": {
        "id": "8UtyNMxys3ZW",
        "colab_type": "code",
        "colab": {}
      },
      "source": [
        "!pip install pycosmos --quiet\n",
        "\n",
        "# The 'as' keyword just renames the library, making it easier for us to access it\n",
        "import pandas as pd\n",
        "import numpy as np\n",
        "# seed the random generator to get consistent results\n",
        "np.random.seed(0)\n",
        "import seaborn as sns\n",
        "from matplotlib import pyplot as plt\n",
        "# Our score function. More explained later.\n",
        "from sklearn.metrics import r2_score\n",
        "\n",
        "from pycosmos import CosmosProject\n",
        "tamu_datathon = CosmosProject('tamu_datathon')"
      ],
      "execution_count": 0,
      "outputs": []
    },
    {
      "cell_type": "markdown",
      "metadata": {
        "id": "9xcZX7Ptqg6i",
        "colab_type": "text"
      },
      "source": [
        "## A (Linear) Model\n",
        "\n",
        "To start off, we'll be trying to draw a line through our data points denoted by this formula for a line. This formula for the line is called a model.\n",
        "\n",
        "$$\n",
        "\\hat{y} = w * x + b\n",
        "$$\n",
        "\n",
        "Simply, a model is a function that aims to take our features ($x$) as input and output our prediction for the target ($\\hat{y}$). The carrot above the y is called a *hat* and is used to denote  our prediction/aprozimation of the $y$ in our data, i.e. $\\hat{y}\\approx y$.\n",
        "\n",
        "* **Data**\n",
        "  * **Target Variable:** ($\\hat{y}$) This is the variable that you're trying to predict given other values. This is also called the _response_ / _predicted_ / _dependent_ / _label_ variable.\n",
        "  * **Feature Variable:** ($x$)  These are the variables that we use to predict the value of the target. These are also called _explanatory_ / _predictor_ / _feature_ / _signal_ / _independent_ variables. \n",
        "* **Parameters** - Variables that the computer will adjust to get a better score.\n",
        "  * **Coefficient**: ($w$) What we multiply our features by. In neural networks and ML, we call $w$ the _weight_.\n",
        "  * **Intercept**: ($b$) What $y$ equals when $x$ is 0. In neural networks and ML we call $b$ the bias."
      ]
    },
    {
      "cell_type": "markdown",
      "metadata": {
        "id": "OF9dQ0NBD9mQ",
        "colab_type": "text"
      },
      "source": [
        "## Model Fitting?\n",
        "\n",
        "* **Fit** - $w=?$, $b=?$ - The process of picking the right parameters for our model to achieve the highest score.\n",
        "* **Score** - How we report the model's performance in learning our data. For linear regression, we will use $R^2$.\n",
        "* **Loss** - Similar to score but the smaller the value, the better. This is what the computer uses to find out how well it fit the data. For example, loss could be the sum distance from the line to the data points.\n",
        "\n",
        "\n",
        "Read more on $R^2$ [at a high level](https://www.investopedia.com/terms/r/r-squared.asp) and [in the math](https://en.wikipedia.org/wiki/Coefficient_of_determination#Definitions). Its generally a measure from 0 to 1.  Simply put, if the $R^2$ of a model is 0.50, then approximately half of the observed variation can be explained by the model's inputs.\n",
        "\n",
        "\n",
        "What's the difference between score and loss? They are very similar! They both indicate how well the model fits the data. A score is generally for humans and loss is for a computer. A score is generally more interpretable and comparable between models.\n",
        "\n",
        "Notice $y$ and $x$ are data, not parameters. They are set. We are given them, we can't chose them. We can only choose our parameters."
      ]
    },
    {
      "cell_type": "markdown",
      "metadata": {
        "id": "SOlP_c8Ld3Oy",
        "colab_type": "text"
      },
      "source": [
        "### Fit a model by hand!\n",
        "\n",
        "Below, we are going to try our own hand at fitting a model (line) to some dummy data. You will do this by adjusting the parameters ($b$, $w$) by hand. You don't have to understand all the code below."
      ]
    },
    {
      "cell_type": "code",
      "metadata": {
        "id": "DxwcdzJkKWc5",
        "colab_type": "code",
        "cellView": "form",
        "colab": {}
      },
      "source": [
        "# @title Set constants for plotting\n",
        "w_true = 1\n",
        "b_true = 0\n",
        "w_min, w_max = -10, 11\n",
        "b_min, b_max = -30, 30\n",
        "w_range = np.linspace(w_min, w_max, 100)\n",
        "b_range = np.linspace(b_min, b_max, 100)\n",
        "# Generate some dummy data\n",
        "def dummy_data():\n",
        "  x = np.sort(np.random.uniform(-5, 5, size=30))\n",
        "  y_hat = w_true*x+b_true\n",
        "  y = np.random.normal(y_hat)\n",
        "  return x, y\n",
        "x, y = dummy_data()"
      ],
      "execution_count": 0,
      "outputs": []
    },
    {
      "cell_type": "code",
      "metadata": {
        "id": "GI6RY7dliwxj",
        "colab_type": "code",
        "cellView": "form",
        "colab": {}
      },
      "source": [
        "# @title Plot data on scatterplot\n",
        "plt.scatter(x, y)\n",
        "plt.xlabel(\"x\")\n",
        "plt.ylabel(\"y\")\n",
        "plt.ylim(b_min, b_max)\n",
        "plt.xlim(min(x), max(x))\n",
        "plt.title(\"Dummy Data with A Strong Positive Correlation\")\n",
        "plt.show()"
      ],
      "execution_count": 0,
      "outputs": []
    },
    {
      "cell_type": "code",
      "metadata": {
        "id": "a0rxQ0pJMtUq",
        "colab_type": "code",
        "cellView": "form",
        "colab": {}
      },
      "source": [
        "# @title Import some libraries we need for interactive plotting\n",
        "from ipywidgets import interact, interactive, fixed, interact_manual\n",
        "import ipywidgets as widgets\n",
        "from mpl_toolkits import mplot3d"
      ],
      "execution_count": 0,
      "outputs": []
    },
    {
      "cell_type": "code",
      "metadata": {
        "id": "hz2hGcYiKahq",
        "colab_type": "code",
        "cellView": "form",
        "colab": {}
      },
      "source": [
        "# @title Define functions for plotting\n",
        "def loss(w, b):\n",
        "  y_hat = w*x+b\n",
        "  return ((y-y_hat)**2).sum()\n",
        "\n",
        "def plot_loss(w, b, ax):\n",
        "  X, Y = np.meshgrid(w_range, b_range)\n",
        "  Z = np.array([[loss(w, b) for w in w_range] for b in b_range])\n",
        "  # ax = plt.axes(projection='3d')\n",
        "  ax.plot_surface(X, Y, Z, cmap='viridis', alpha=.3)\n",
        "  ax.scatter3D([w], [b], [loss(w, b)])\n",
        "  # ax.plot3D([w]*len(w_range), b_range, b_gradient(w), 'gray')\n",
        "  # ax.plot3D(w_range, [b] * len(b_range), w_gradient(b), 'gray')\n",
        "  ax.text(w, b, loss(w, b), \"({},{}), Loss: {:.0f}\".format(w, b, loss(w, b)))\n",
        "  ax.set_title(\"Computer's Brain: Minimize the Loss\")\n",
        "  ax.set_xlabel('w')\n",
        "  ax.set_ylabel('b')\n",
        "  ax.set_zlabel('loss')\n",
        "\n",
        "\n",
        "def plot_model(w, b, ax=None):\n",
        "    ax = ax or plt.subplot()\n",
        "    x, y = dummy_data()\n",
        "    ax.scatter(x, y, label=\"Data\")\n",
        "    ax.set_ylim(b_min, b_max)\n",
        "    ax.set_xlim(min(x), max(x))\n",
        "    model = w*x+b\n",
        "    ax.plot(x, model, color=\"r\", label='Model: $\\hat{{y}}$={:.2f}*x+{:.0f}'.format(w, b))\n",
        "    ax.set_xlabel('x')\n",
        "    ax.set_ylabel('y')\n",
        "    ax.legend(loc='upper left')\n",
        "    ax.set_title('Fit Model To Data: ($R^2$: {:.2f})'.format(r2_score(y, model)))\n",
        "\n",
        "def plot(w, b):\n",
        "  fig = plt.figure(figsize=(15, 6))\n",
        "  ax1 = plt.subplot(121)\n",
        "  ax2 = plt.subplot(122, projection='3d')\n",
        "  plot_model(w, b, ax1)\n",
        "  plot_loss(w, b, ax2)"
      ],
      "execution_count": 0,
      "outputs": []
    },
    {
      "cell_type": "code",
      "metadata": {
        "id": "SeIeJTbVM2VN",
        "colab_type": "code",
        "cellView": "form",
        "colab": {}
      },
      "source": [
        "# @title Run this block to vizualize model fitting\n",
        "# You may have to run this cell a few times to get the plot to show\n",
        "interact(\n",
        "  plot,\n",
        "  w = widgets.IntSlider(value=-10, min=w_min, max=w_max, step=1),\n",
        "  b = widgets.IntSlider(value=-25, min=b_min, max=b_max, step=1)\n",
        ")\n",
        "print(\"Adjust the parameters: w and b to fit the model to the data!\")\n",
        "plt.show()"
      ],
      "execution_count": 0,
      "outputs": []
    },
    {
      "cell_type": "markdown",
      "metadata": {
        "id": "ceOxrt0h4m_1",
        "colab_type": "text"
      },
      "source": [
        "### Use Math to Fit Model\n",
        "\n",
        "We can actually get the computer to do what we just did for us! We  do this using math. Our goal through the math is to get the lowest loss possible, i.e. \"move the ball to the bottom of the bowl\". This is called optimization. In the case of linear regression, this \"moving of the ball\" is called convex optimization and can be solved using simple derivatives. However, we won't cover that here. We will use a package to do the math for us. Pay attention to the parameters the model picked.\n",
        "\n",
        "We will be using Scikit-Learn's LinearRegression class to do the math for us. Learn more about it [here](https://scikit-learn.org/stable/modules/generated/sklearn.linear_model.LinearRegression.html)."
      ]
    },
    {
      "cell_type": "code",
      "metadata": {
        "id": "MvbXj71omhDF",
        "colab_type": "code",
        "colab": {}
      },
      "source": [
        "from sklearn.linear_model import LinearRegression\n",
        "\n",
        "dummy_model = LinearRegression().fit(x.reshape(-1, 1), y)\n",
        "y_hat = dummy_model.predict(x.reshape(-1, 1))\n",
        "\n",
        "# Plot the original data and the line from our model.\n",
        "plt.scatter(x, y, label='Data')\n",
        "plt.plot(x, y_hat, 'r', label='Model: $\\hat{{y}}$={:.2f}*x+{:.0f}'.format(dummy_model.coef_[0], dummy_model.intercept_))\n",
        "# Set location of the legend of the plot.\n",
        "plt.legend(loc='upper left')\n",
        "plt.ylim(b_min, b_max)\n",
        "plt.title(\"Computer Fit Model ($R^2$: {:.2f})\".format(r2_score(y, y_hat)))\n",
        "plt.show()"
      ],
      "execution_count": 0,
      "outputs": []
    },
    {
      "cell_type": "markdown",
      "metadata": {
        "id": "7mtLvfFzO9kI",
        "colab_type": "text"
      },
      "source": [
        "## Your First Neural Network!\n",
        "\n",
        "Would you believe me if I told you you just made your first neural network model? Well you did! The figure below is what you'll generally see when people show neural networks.\n",
        "- The circles are called **nodes**.\n",
        "- The lines are **edges**. Notice how the edges are **weighted** with the parameters. \n",
        "- The figure can be thought of in terms of its sections of vertically aligned nodes, called **layers**. This network has 2 layers.\n",
        "- The left-most layer is called the **input layer**. The input layer is where we feed in the features, one feature per node.\n",
        "- The rightmost layer is called the **output layer** and is the node(s) that outputs our target.\n",
        "- So how you read the figure is that the output node node is doing the simple computation of multiplying each feature (input node) by its corresponding parameter (edge weight) and summing all of those multiplications together. i.e. $\\sum{\\theta_ix_i}$ where $\\theta_i$ is the $i^{th}$ parameter and $x_i$ is the $i^{th}$ input node.\n",
        "- For those that are have seen this type of thing before, we are going to leave discussions of activation functions, output functions and hidden layers to later. But in case you were wondering, we could say this network is using the identity function as the activation function."
      ]
    },
    {
      "cell_type": "code",
      "metadata": {
        "id": "oqQ9wl6jO8ij",
        "colab_type": "code",
        "cellView": "form",
        "colab": {}
      },
      "source": [
        "# @title Define functions for plotting a neural network\n",
        "# import library for drawing graph\n",
        "import networkx as nx\n",
        "\n",
        "def draw_nn(w, b, ax):\n",
        "  y_label = f'$\\hat{{y}}$={w}*x\\n+{b}*1'\n",
        "  G = nx.DiGraph()\n",
        "  G.add_edges_from([('1', y_label)], weight=b)\n",
        "  G.add_edges_from([('x', y_label)], weight=w)\n",
        "\n",
        "  edge_labels={('x', y_label): f'w = {w}', ('1', y_label): f'b = {b}'}\n",
        "\n",
        "  pos = {'x': (0, 1), '1': (0, 0), y_label: (1, 1)}\n",
        "  edges = G.edges()\n",
        "  weights = [G[u][v]['weight'] for u,v in edges]\n",
        "  # truncate so arrow doesn't get too fat\n",
        "  weights = [min(abs(w), 10) for w in weights]\n",
        "\n",
        "  nx.draw_networkx_nodes(G, pos, node_color='w', node_size=5000, edgecolors='k', ax=ax)\n",
        "  nx.draw_networkx_labels(G, pos, ax=ax)\n",
        "  nx.draw_networkx_edge_labels(G,pos,edge_labels=edge_labels, ax=ax)\n",
        "  nx.draw_networkx_edges(G, pos, edgelist=edges, edge_color='k', arrows=True, node_size=5000, arrowsize=30, width=weights, ax=ax)\n",
        "\n",
        "def plot(w, b):\n",
        "  fig, (ax1, ax2) = plt.subplots(1, 2, figsize=(15, 6))\n",
        "  plot_model(w, b, ax1)\n",
        "  draw_nn(w, b, ax2)"
      ],
      "execution_count": 0,
      "outputs": []
    },
    {
      "cell_type": "code",
      "metadata": {
        "id": "X2PZrdmLQGWN",
        "colab_type": "code",
        "cellView": "form",
        "colab": {}
      },
      "source": [
        "# @title Run this block to vizualize your first neural network\n",
        "# You may have to run this cell a few times to get the plot to show\n",
        "interact(\n",
        "  plot,\n",
        "  w = widgets.IntSlider(value=-9, min=w_min, max=w_max, step=1),\n",
        "  b = widgets.IntSlider(value=25, min=b_min, max=b_max, step=1)\n",
        ")\n",
        "print(\"Adjust the parameters: w and b to fit the model to the data!\")\n",
        "plt.show()"
      ],
      "execution_count": 0,
      "outputs": []
    },
    {
      "cell_type": "markdown",
      "metadata": {
        "id": "a6S1pU9HcnL4",
        "colab_type": "text"
      },
      "source": [
        "See in the above visualization how your input layer (nodes on the left) consist of your data input ($x$) and the dummy input (1). These get multiplied by your parameters along the edges ($w$, $b$) to get a predicted value ($\\hat{y}$) in the output node. If you set a parameter to 0, you essentially turn off that input."
      ]
    },
    {
      "cell_type": "markdown",
      "metadata": {
        "id": "3mmQ_KkA3ce0",
        "colab_type": "text"
      },
      "source": [
        "## Post Hoc Analysis and Interpreting Results\n",
        "\n",
        "Great, you can fit a model! Now what? You have to see if you did a good job fitting that model before you can go on interpreting results. Data can play tricks on you that you have to watch out for. We will point out one of those tricks in linear regression called *multicollinearity*.\n",
        "\n",
        "\n",
        "\n",
        "\n",
        "#### House Price Data\n",
        "\n",
        "<img src=\"https://cdn.vox-cdn.com/thumbor/rp-0KYsHXAmXi4MRksvU5NVNv_c=/0x0:5545x3762/1200x800/filters:focal(2330x1438:3216x2324)/cdn.vox-cdn.com/uploads/chorus_image/image/60095365/shutterstock_246334408.0.jpg\" alt=\"alt\" width=\"400\"/>\n",
        "\n",
        "We'll be using a simple dataset containing information about the house of prices and other factors about the houses in King Country, USA. For starters, we'll be using the sqrt of a house to predict pricing. \n",
        "\n",
        "Obviously, this will not be a perfect model because the price of a house depends on a lot of other things than sqft, but this will be a good starting point."
      ]
    },
    {
      "cell_type": "code",
      "metadata": {
        "id": "YxdNJ9wqJniI",
        "colab_type": "code",
        "colab": {}
      },
      "source": [
        "# Visualize the data\n",
        "house_data = pd.read_csv('https://cosmos-api-prod-datasetsbucket-iuph41amgzfj.s3.amazonaws.com/house_data.csv')\n",
        "# The scatter function is used to created a scatter plot. The first variable\n",
        "# passed is plotted on the x-axis and the second on the y-axis.\n",
        "plt.scatter(house_data['sqft_living'], house_data['price'])\n",
        "plt.xlabel('sqft_living')\n",
        "plt.ylabel('price')\n",
        "plt.show()"
      ],
      "execution_count": 0,
      "outputs": []
    },
    {
      "cell_type": "code",
      "metadata": {
        "id": "YWU3cmVJ4qnf",
        "colab_type": "code",
        "colab": {}
      },
      "source": [
        "# Fit a (linear) model\n",
        "x = house_data[['sqft_living']]\n",
        "y = house_data['price']\n",
        "house_model = LinearRegression().fit(x, y)\n",
        "y_hat = house_model.predict(x)\n",
        "\n",
        "# Plot the original data and the line from our model.\n",
        "plt.scatter(x, y, label='Data')\n",
        "plt.plot(x, y_hat, 'r', label='Model: y={:.2f}*x+{:.0f}'.format(house_model.coef_[0], house_model.intercept_))\n",
        "# Set location of the legend of the plot.\n",
        "plt.legend(loc='upper left')\n",
        "plt.title(\"Computer Fit Model ($R^2$: {:.2f})\".format(r2_score(y, y_hat)))\n",
        "plt.xlabel('sqft_living')\n",
        "plt.ylabel('price')\n",
        "plt.show()"
      ],
      "execution_count": 0,
      "outputs": []
    },
    {
      "cell_type": "markdown",
      "metadata": {
        "id": "I7inmbyh5NBo",
        "colab_type": "text"
      },
      "source": [
        "#### Interpretation of Results\n",
        "\n",
        "1. $R^2$=0.23 which means that aproximately 49% of the house price can be explained by the sqrt of the house.\n",
        "2. Note that the weight parameter ($w$) in our model fit is 280 meaning that a **1 sqft** increase in **sqft_living** corresponds to a **\\$280** increase in **price**. We certainly have to take this interpretation with a grain of salt though as our $R^2$ is low.\n",
        "\n",
        "One of the reasons our score is low is the lack of _features_. While the sqft of the house could give us some information about how much money it will make, there are a lot of other variables like location, age, condition, etc. Up ahead, we'll see how having more features can help us create better models, but also things we have to watch out for."
      ]
    },
    {
      "cell_type": "markdown",
      "metadata": {
        "id": "l4t5BFk7suMR",
        "colab_type": "text"
      },
      "source": [
        "### Multiple Linear Regression\n",
        "\n",
        "We saw how to create linear models that try to predict a variable using a single explanatory variable. But turned out that those don't really do a good job, because most of the time a single variable won't be able to give us enough information to predict. Now we'll try and upgrade to linear models that use 2 or more predictor variables.\n",
        "\n",
        "Let's take a look at the other features in our data."
      ]
    },
    {
      "cell_type": "code",
      "metadata": {
        "id": "5T4poiS02FAi",
        "colab_type": "code",
        "colab": {}
      },
      "source": [
        "house_data.head()"
      ],
      "execution_count": 0,
      "outputs": []
    },
    {
      "cell_type": "markdown",
      "metadata": {
        "id": "9b9tUVHB4yT5",
        "colab_type": "text"
      },
      "source": [
        "### Visualize Data\n",
        "\n",
        "Let's look at how the price correlates with the other variables in our data. Can you tell which features have high correlation with price?"
      ]
    },
    {
      "cell_type": "code",
      "metadata": {
        "id": "_27QAsQm43Xl",
        "colab_type": "code",
        "colab": {}
      },
      "source": [
        "house_target_name = \"price\"\n",
        "house_target = house_data[house_target_name]\n",
        "# .drop will drop a row or column. We use axis=1 to drop the column\n",
        "house_features = house_data.drop(house_target_name, axis=1)\n",
        "house_feature_names = house_features.columns\n",
        "\n",
        "fig = plt.figure(figsize=(15, 10))\n",
        "\n",
        "# lets get correlation of price with our features\n",
        "corr = house_data.corr()\n",
        "\n",
        "# The enumerate function will give us the index as well as the value\n",
        "for i, feature_name in enumerate(house_feature_names):\n",
        "  # We have 6 predictor variables and we'll display them in a 3 row - 2 column matrix\n",
        "  plt.subplot(2,3,i+1)\n",
        "  plt.scatter(house_features[feature_name], house_target)\n",
        "  plt.title(\"{}: (Corr {:.2f})\".format(feature_name, corr[feature_name][house_target_name]))\n",
        "  plt.ylabel(house_target_name)"
      ],
      "execution_count": 0,
      "outputs": []
    },
    {
      "cell_type": "markdown",
      "metadata": {
        "id": "G-dRBCtpOMpk",
        "colab_type": "text"
      },
      "source": [
        "We'll chose the following features for our model based on correlation:\n",
        "\n",
        "* **bedrooms**: Number of bedrooms per house\n",
        "* **bathrooms**: Number of Bathrooms per house\n",
        "* **sqft_living**: Square footage of the entire house\n",
        "* **year_build**: Year the house was built in"
      ]
    },
    {
      "cell_type": "code",
      "metadata": {
        "id": "bnWHC80MN-Jc",
        "colab_type": "code",
        "colab": {}
      },
      "source": [
        "# Let's select the important features we'll be using in our model.\n",
        "house_features_names = ['bedrooms', 'bathrooms', 'sqft_living', 'year_built']\n",
        "\n",
        "house_features = house_data[house_features_names]\n",
        "\n",
        "house_model = LinearRegression().fit(house_features, house_target)\n",
        "house_score = house_model.score(house_features, house_target)\n",
        "\n",
        "print(\"R2: {:.2f}\".format(house_score))"
      ],
      "execution_count": 0,
      "outputs": []
    },
    {
      "cell_type": "markdown",
      "metadata": {
        "id": "eQgQS8wZT9y0",
        "colab_type": "text"
      },
      "source": [
        "Because our model depends on multiple variables, we won't be able to get a concise look at it, unlike what we did for the simple linear model. However, you can see that our score is higher than one we could get with a simple linear model. This is because our model **has more information** from more features and can thus form a better function to predict the house prices.\n",
        "\n"
      ]
    },
    {
      "cell_type": "markdown",
      "metadata": {
        "id": "1UVEd7k-KQvG",
        "colab_type": "text"
      },
      "source": [
        "### Interpret Results (Failed Attempt)\n",
        "\n",
        "The greatest advantage to linear regression (and logistic regression for classification problems) is the interpretability. We are able to report how much each feature influences our prediction. We need to be able to report why we made the prediction that we did. But there's a catch in this case. Let's see."
      ]
    },
    {
      "cell_type": "code",
      "metadata": {
        "id": "8OqHQ71bKM6F",
        "colab_type": "code",
        "colab": {}
      },
      "source": [
        "coef = house_model.coef_\n",
        "intercept = house_model.intercept_\n",
        "# The .0f in the following \"{}*{:.0f}\".format(f, c) rounds our coefficient to 0 decimal places\n",
        "print(\"price =\", int(intercept), \"+\", \" + \".join([\"{}*{:.0f}\".format(f, c) for f, c in zip(house_features_names, coef)]))"
      ],
      "execution_count": 0,
      "outputs": []
    },
    {
      "cell_type": "markdown",
      "metadata": {
        "id": "eWuv1y4NLDt0",
        "colab_type": "text"
      },
      "source": [
        "Above, we see the exact equation in how our model is making predictions! Pretty cool. How we read this is \"all other variables being held constant, increasing the sqft_living by one unit, on average, increases the price of the house by $300). See anything that seems anti-intuitive though? The bedrooms, you wouldn't expect the effect to be negative!"
      ]
    },
    {
      "cell_type": "markdown",
      "metadata": {
        "id": "tIe_PiXdLtda",
        "colab_type": "text"
      },
      "source": [
        "### Multicollinearity\n",
        "\n",
        "Here is an example of the importance of post-hoc analysis. We fit a model, we tried to interpret. But theres something wrong. In this case, when two variables are giving the same or similar measure, the model has a hard time knowing which feature to attribute the effect to. And so we get some weird numbers. Let's see which variables are overlapping."
      ]
    },
    {
      "cell_type": "code",
      "metadata": {
        "id": "P5-XscOaKyJq",
        "colab_type": "code",
        "colab": {}
      },
      "source": [
        "correlation_matrix = house_features.corr()\n",
        "sns.heatmap(correlation_matrix, square=True, annot=True)\n",
        "plt.show()"
      ],
      "execution_count": 0,
      "outputs": []
    },
    {
      "cell_type": "markdown",
      "metadata": {
        "id": "Q3wcDJqBMC-S",
        "colab_type": "text"
      },
      "source": [
        "Seems like bathrooms and bedrooms have a high correlation with sqft_living (>0.50). We need to remove these features for interpretation since they're giving redundent information. We will keep sqft_living because we saw before that it has the best correlation with price."
      ]
    },
    {
      "cell_type": "code",
      "metadata": {
        "id": "BHrUkXtoMVkw",
        "colab_type": "code",
        "colab": {}
      },
      "source": [
        "house_features_names = ['sqft_living', 'year_built']\n",
        "house_features = house_data[house_features_names]\n",
        "\n",
        "house_model = LinearRegression().fit(house_features, house_target)\n",
        "print(house_model.score(house_features, house_target))\n",
        "coef = house_model.coef_\n",
        "intercept = house_model.intercept_\n",
        "print(\"price =\", int(intercept), \"+\", \" + \".join([\"{}*{:.0f}\".format(f, c) for f, c in zip(house_features, coef)]))"
      ],
      "execution_count": 0,
      "outputs": []
    },
    {
      "cell_type": "markdown",
      "metadata": {
        "id": "C8jG-e_Js2b9",
        "colab_type": "text"
      },
      "source": [
        "Can you interpret these results?\n",
        "\n",
        "#### Afterword on Linear Regression Analysis\n",
        "If you're interested to learn more about post hoc analysis on your linear regression model, see [this](http://docs.statwing.com/interpreting-residual-plots-to-improve-your-regression).\n"
      ]
    },
    {
      "cell_type": "markdown",
      "metadata": {
        "id": "DMVDSS1OTHiA",
        "colab_type": "text"
      },
      "source": [
        "### Neural Networks Teaser\n",
        "\n",
        "We now have a model with two features! Let see how this would look like in a neural network."
      ]
    },
    {
      "cell_type": "code",
      "metadata": {
        "id": "mAIFaAb-tral",
        "colab_type": "code",
        "cellView": "form",
        "colab": {}
      },
      "source": [
        "# @title Define functions for plotting a neural network\n",
        "# import library for drawing graph\n",
        "import networkx as nx\n",
        "\n",
        "def draw_nn(w1, w2, b):\n",
        "  fig =  plt.figure(figsize=(12,8))\n",
        "  y_label = f'$\\hat{{y}}$={w1}$x_1$\\n+{w2}$x_2$\\n+{b}'\n",
        "  G = nx.DiGraph()\n",
        "  x1_label = '$x_1$: sqft'\n",
        "  x2_label = '$x_2$: year'\n",
        "  G.add_edges_from([('1', y_label)], weight=b)\n",
        "  G.add_edges_from([(x1_label, y_label)], weight=w1)\n",
        "  G.add_edges_from([(x2_label, y_label)], weight=w2)\n",
        "\n",
        "  edge_labels={(x1_label, y_label): f'$w_1$ = {w1}',\n",
        "               (x2_label, y_label): f'$w_2$ = {w2}',\n",
        "               ('1', y_label): f'b = {b}'}\n",
        "\n",
        "  pos = {x1_label: (0, .5), x2_label: (0, 0), '1': (0, -.5), y_label: (1, 0)}\n",
        "  edges = G.edges()\n",
        "  weights = [np.log10(abs(G[u][v]['weight'])) for u,v in edges]\n",
        "  # truncate so arrow doesn't get too fat\n",
        "  weights = [min(abs(w), 10) for w in weights]\n",
        "\n",
        "  nx.draw_networkx_nodes(G, pos, node_color='w', node_size=8000, edgecolors='k')\n",
        "  nx.draw_networkx_labels(G, pos)\n",
        "  nx.draw_networkx_edge_labels(G,pos,edge_labels=edge_labels)\n",
        "  nx.draw_networkx_edges(G, pos, edgelist=edges, edge_color='k', arrows=True, node_size=8000, arrowsize=30, width=weights)\n",
        "\n",
        "draw_nn(*map(int, coef), int(intercept))"
      ],
      "execution_count": 0,
      "outputs": []
    },
    {
      "cell_type": "markdown",
      "metadata": {
        "id": "Dc_a5KyO-kPU",
        "colab_type": "text"
      },
      "source": [
        "## Interpretability <> Accuracy Tradeoff\n",
        "\n",
        "We start with linear regression because it is the most **interpretable** method, meaning we can explain very well *why* our machine learning model is predicting what it is and also how strongly we should trust it's predictions. As we move to more complex models, it becomes harder and harder to interpret our results.\n",
        "\n",
        "<img src=\"https://miro.medium.com/max/1400/1*shNOspLyVn_2mvwves9MMA.png\" alt=\"alt\" width=\"600\"/>\n",
        "\n",
        "## Update Domain Knowledge\n",
        "\n",
        "You can get lost in the data science and building some really cool models, but at the end of the day, your stakeholders will ask, *\"so what\"*. You need to give an easily understandable explaination of your work! Plots are also helpful in this. How would you update domain knowledge with your findings today?\n",
        "\n",
        "Something along the lines of:\n",
        "\n",
        "> \"There seems to be a high positive correlation between sqft of a house and the price of the house. Aditionally, the year built seems to have a negative correlation. Using just these two features, we can explain about 55% of the pricing market. We need to do some more research on more features that would help us better predict the price of the house.\""
      ]
    },
    {
      "cell_type": "markdown",
      "metadata": {
        "id": "tLk2efZh8Bpk",
        "colab_type": "text"
      },
      "source": [
        "# Challenges - Training Simple Models\n",
        "\n",
        "### Getting Points:\n",
        "\n",
        "Each section of the challenge will have some instructions, please **carefully read these**. They will instruct you on how to 'submit' your answers. This will usually involve setting a variable to a specific value. "
      ]
    },
    {
      "cell_type": "markdown",
      "metadata": {
        "id": "Ajr1J779yDrg",
        "colab_type": "text"
      },
      "source": [
        "#### Set the 'email' variable below to the email you used to sign up for Cosmos"
      ]
    },
    {
      "cell_type": "code",
      "metadata": {
        "id": "n2tlwlIA9I81",
        "colab_type": "code",
        "colab": {}
      },
      "source": [
        "email = None  # e.g. email = \"example@gmail.com\""
      ],
      "execution_count": 0,
      "outputs": []
    },
    {
      "cell_type": "markdown",
      "metadata": {
        "id": "BDOrNkXA9JLm",
        "colab_type": "text"
      },
      "source": [
        "## Wine Connoisseur?\n",
        "\n",
        "<img src=\"https://img.mshanken.com/d/wso/bolt/Featured/Ratings/dailywinepicks_1600.jpg?w=800&q=90\" alt=\"alt\" width=\"400\"/>\n",
        "\n",
        "\n",
        "It’s a known fact that older the wine, better the taste. However, there are several factors other than age that go into wine quality certification which include physiochemical tests like alcohol quantity, fixed acidity, volatile acidity, determination of density, pH and more. The main goal of this machine learning project is to build a machine learning model to predict the quality of wines by exploring their various chemical properties. Wine quality dataset consists of 4898 observations with 11 independent and 1 dependent variable.\n",
        "\n",
        "\n",
        "#### Challenge 1: Most Correlated With Rating?\n"
      ]
    },
    {
      "cell_type": "code",
      "metadata": {
        "id": "APY_OlHt0sGd",
        "colab_type": "code",
        "colab": {}
      },
      "source": [
        "df = pd.read_csv(\"https://archive.ics.uci.edu/ml/machine-learning-databases/wine-quality/winequality-white.csv\", sep=\";\")\n",
        "df.head()"
      ],
      "execution_count": 0,
      "outputs": []
    },
    {
      "cell_type": "code",
      "metadata": {
        "id": "43HmtODuVPbu",
        "colab_type": "code",
        "colab": {}
      },
      "source": [
        "# YOUR CODE HERE...\n",
        "\n",
        "\n",
        "# Set the following variable to the feature which has the highest correlation with 'quality'\n",
        "most_correlated = None  # e.g. most_correlated = 'sulphates'"
      ],
      "execution_count": 0,
      "outputs": []
    },
    {
      "cell_type": "code",
      "metadata": {
        "id": "ExTG6HAX4pnV",
        "colab_type": "code",
        "cellView": "form",
        "colab": {}
      },
      "source": [
        "# @title Run to get points for: Most Correlated with Rating (10 Points)\n",
        "tamu_datathon.judge_attempt('most_correlated', email, [most_correlated])"
      ],
      "execution_count": 0,
      "outputs": []
    },
    {
      "cell_type": "markdown",
      "metadata": {
        "id": "4vWlrAEsk-nS",
        "colab_type": "text"
      },
      "source": [
        "#### Challenge 2: Detect Mutlicollinearity"
      ]
    },
    {
      "cell_type": "code",
      "metadata": {
        "id": "0anpzwdkPqpU",
        "colab_type": "code",
        "colab": {}
      },
      "source": [
        "# Build a model with the following features: [\"alcohol\", \"density\", \"residual sugar\"]\n",
        "# Find the variable that is causing multicollinearity and is least correlated to the target\n",
        "# YOUR CODE HERE...\n",
        "\n",
        "\n",
        "multicollinear_feature = None  # e.g. multicollinear_feature = \"alcohol\""
      ],
      "execution_count": 0,
      "outputs": []
    },
    {
      "cell_type": "code",
      "metadata": {
        "id": "1HKcGR3V4rOy",
        "colab_type": "code",
        "cellView": "form",
        "colab": {}
      },
      "source": [
        "# @title Run to get points for: Detect Multicollinearity (10 Points)\n",
        "tamu_datathon.judge_attempt('multicollinear_feature', email, [multicollinear_feature])"
      ],
      "execution_count": 0,
      "outputs": []
    },
    {
      "cell_type": "markdown",
      "metadata": {
        "id": "3LxEkC4GmGxY",
        "colab_type": "text"
      },
      "source": [
        "#### Challenge 3: Interpreting a model"
      ]
    },
    {
      "cell_type": "code",
      "metadata": {
        "id": "kycDrE7RNs-l",
        "colab_type": "code",
        "colab": {}
      },
      "source": [
        "# Build a linear regression model with the features: [\"alcohol\", \"density\", \"volatile acidity\"]\n",
        "# All other variables held constant, how much does 'quality' change with a one unit increase in 'alcohol'?\n",
        "# Round your answer to 4 decimal places\n",
        "# YOUR CODE HERE...\n",
        "\n",
        "\n",
        "effect = None  # e.g. effect = 1.1234"
      ],
      "execution_count": 0,
      "outputs": []
    },
    {
      "cell_type": "code",
      "metadata": {
        "id": "oZ9KX70D4smb",
        "colab_type": "code",
        "cellView": "both",
        "colab": {}
      },
      "source": [
        "# @title Run to get points for: Interpreting a model (10 Points)\n",
        "tamu_datathon.judge_attempt('interpreting_model', email, [effect])"
      ],
      "execution_count": 0,
      "outputs": []
    },
    {
      "cell_type": "markdown",
      "metadata": {
        "id": "lXOKCewLDd5G",
        "colab_type": "text"
      },
      "source": [
        "## Take Home Challenge\n",
        "### Largest data set ever recorded of the ocean temperatures.\n",
        "![alt text](https://3c1703fe8d.site.internapcdn.net/newman/csz/news/800/2018/3-ocean.jpg)\n",
        "\n",
        "Read up on the data here: https://www.kaggle.com/sohier/calcofi/version/2\n",
        "\n",
        "Is there a relationship between water salinity & water temperature? Can you predict the water temperature based on salinity? Can you get better accuracy by including more features? Can you interpret the model for us? Can you plot highly correlated variables?\n",
        "\n",
        "**Note:** This is big data! In fact, this is the largest data set of it's type (read more from link). In total, (864863 rows/samples, 74 columns). As such, It may take a little time to read in.\n",
        "\n",
        "\n",
        "Read in the data from here: https://cosmos-api-prod-datasetsbucket-iuph41amgzfj.s3.amazonaws.com/water_data.csv"
      ]
    }
  ]
}